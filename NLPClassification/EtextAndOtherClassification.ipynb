{
  "cells": [
    {
      "attachments": {},
      "cell_type": "markdown",
      "metadata": {
        "id": "T9JEVw7dnUmc"
      },
      "source": [
        "# Классификация товаров\n",
        "Основная идея данной части проекта - создание модели, классифицирующей текст-описание товаров в 4 категории (Electronics, Household, Books, and Clothing & Accessories)\n"
      ]
    },
    {
      "attachments": {},
      "cell_type": "markdown",
      "metadata": {
        "id": "DXf725jGnUmf"
      },
      "source": [
        "## Начало\n",
        "Подключим необходимые библиотеки, обьявим необходимые функции и константы."
      ]
    },
    {
      "cell_type": "code",
      "execution_count": 1,
      "metadata": {
        "colab": {
          "base_uri": "https://localhost:8080/"
        },
        "id": "KjRmpjrInUmg",
        "outputId": "449f19e0-8c53-447b-9b38-9b4f7c145d32"
      },
      "outputs": [],
      "source": [
        "import numpy as np\n",
        "import pandas as pd\n",
        "import seaborn as sns\n",
        "from matplotlib import pyplot as plt\n",
        "import seaborn as sns\n",
        "from IPython.display import clear_output\n",
        "import warnings\n",
        "warnings.filterwarnings(\"ignore\")\n",
        "\n",
        "\n",
        "import torch\n",
        "import torch.nn as nn\n",
        "import torch.nn.functional as F\n",
        "import torch.optim as optim\n",
        "from torch.nn.utils.rnn import pad_sequence\n",
        "from torch.utils.data import DataLoader, Dataset\n",
        "from collections import Counter\n",
        "from gensim.models import Word2Vec\n",
        "\n",
        "\n",
        "import re\n",
        "import string\n",
        "import contractions\n",
        "import nltk\n",
        "from nltk.stem import WordNetLemmatizer\n",
        "from nltk.tokenize import RegexpTokenizer\n",
        "from nltk.corpus import stopwords\n",
        "\n"
      ]
    },
    {
      "cell_type": "code",
      "execution_count": 2,
      "metadata": {
        "colab": {
          "base_uri": "https://localhost:8080/"
        },
        "id": "QHrKhTQ8nUmh",
        "outputId": "e98b4908-8bfa-406b-8346-bfd947ba7a2f"
      },
      "outputs": [
        {
          "name": "stderr",
          "output_type": "stream",
          "text": [
            "[nltk_data] Downloading package stopwords to\n",
            "[nltk_data]     /Users/nikitos_paravoz/nltk_data...\n",
            "[nltk_data]   Package stopwords is already up-to-date!\n",
            "[nltk_data] Downloading package wordnet to\n",
            "[nltk_data]     /Users/nikitos_paravoz/nltk_data...\n",
            "[nltk_data]   Package wordnet is already up-to-date!\n"
          ]
        }
      ],
      "source": [
        "nltk.download('stopwords')\n",
        "nltk.download('wordnet')\n",
        "stop_words = set(stopwords.words('english'))\n",
        "tokenizer = RegexpTokenizer(\"[\\w]+\")\n",
        "lemmatizer = WordNetLemmatizer()\n",
        "BATCH_SIZE = 32"
      ]
    },
    {
      "attachments": {},
      "cell_type": "markdown",
      "metadata": {
        "id": "dJJMvnmgnUmi"
      },
      "source": [
        "## Представление текста\n",
        "Модели работают только с числовым представлением текстов, для чего необходимо строить их вектора, а для того, чтобы вектора были построены наиболее эффективным способом, нам надо очистить текст от \"мусора\", а также привести его в унифицированный вид.\n",
        "Ниже представлены функции для обработки текста:"
      ]
    },
    {
      "cell_type": "code",
      "execution_count": 3,
      "metadata": {
        "id": "d14No8ahnUmi"
      },
      "outputs": [],
      "source": [
        "def text_lower(text):\n",
        "    return text.lower()\n",
        "\n",
        "def text_remove_whitespaces(text):\n",
        "    return text.strip()\n",
        "\n",
        "def text_lemm(text):\n",
        "    return \" \".join([lemmatizer.lemmatize(word) for word in tokenizer.tokenize(text)])\n",
        "\n",
        "def text_remove_stopwords(text):\n",
        "    text_no_stopwords = [word for word in tokenizer.tokenize(text) if word not in stop_words]\n",
        "    return \" \".join(text_no_stopwords)\n",
        "\n",
        "def text_no_ascii(text):\n",
        "    text = re.sub(r'[^\\x00-\\x7f]', '', text)\n",
        "    return text\n",
        "\n",
        "def text_remove_punct(text):\n",
        "    text_no_punct = text.translate(str.maketrans('', '', string.punctuation))\n",
        "    return text_no_punct\n",
        "\n",
        "def text_expand_contractions(text):\n",
        "    return contractions.fix(text)\n",
        "\n",
        "def text_remove_short_words(text, min_len=2):\n",
        "    words = text.split()\n",
        "    long_words = [word for word in words if len(word) >= min_len]\n",
        "    return ' '.join(long_words)\n",
        "\n",
        "def text_remove_long_words(text, max_len=10):\n",
        "    words = text.split()\n",
        "    short_words = [word for word in words if len(word) <= max_len]\n",
        "    return ' '.join(short_words)\n",
        "\n",
        "def text_remove_nonalph(text):\n",
        "    return \" \".join([word for word in tokenizer.tokenize(text) if word.isalpha()])\n"
      ]
    },
    {
      "attachments": {},
      "cell_type": "markdown",
      "metadata": {
        "id": "AVtgMl0MnUmi"
      },
      "source": [
        "Сложим все эти функции в одну, ее то мы и будем использовать для обработки каждого описания товара."
      ]
    },
    {
      "cell_type": "code",
      "execution_count": 4,
      "metadata": {
        "id": "Vzj8RK-ynUmj"
      },
      "outputs": [],
      "source": [
        "def text_preprocess(text):\n",
        "    text = text_expand_contractions(text)\n",
        "    text = text_lower(text)\n",
        "    text = text_remove_whitespaces(text)\n",
        "    text = text_remove_punct(text)\n",
        "    text = text_remove_stopwords(text)\n",
        "    text = text_no_ascii(text)\n",
        "    text = text_remove_nonalph(text)\n",
        "    text = text_lemm(text)\n",
        "    text = text_remove_short_words(text)\n",
        "    text = text_remove_long_words(text)\n",
        "    return text"
      ]
    },
    {
      "attachments": {},
      "cell_type": "markdown",
      "metadata": {
        "id": "PajTgowUnUmj"
      },
      "source": [
        "## Подготовка данных\n",
        "В задаче данные подают в виде csv файла, нам нужно из него получить датасет для обучения и тестирования.\n",
        "Ниже представлена функция открывающая конвертирующая csv файл в датафрейм из pandas, далее его мы уже будем представлять в виде датасета."
      ]
    },
    {
      "cell_type": "code",
      "execution_count": 5,
      "metadata": {
        "id": "ksGnwenknUmj"
      },
      "outputs": [],
      "source": [
        "def prepare_data(csv_path):\n",
        "    data = pd.read_csv(csv_path)\n",
        "    data.dropna(inplace=True)\n",
        "    data.drop_duplicates(inplace=True)\n",
        "    data.reset_index(drop=True, inplace=True)\n",
        "    data.columns = ['category', 'description']\n",
        "    category_dict = {'Household': 0, 'Books': 1, 'Clothing & Accessories': 2, 'Electronics' : 3, 'Other' : 4}\n",
        "    data.replace({'category' : category_dict}, inplace=True)\n",
        "    return data\n"
      ]
    },
    {
      "cell_type": "code",
      "execution_count": 6,
      "metadata": {
        "id": "ehcJrcPOnUmk"
      },
      "outputs": [],
      "source": [
        "data = prepare_data('ecommerce_otherDataset.csv')"
      ]
    },
    {
      "cell_type": "code",
      "execution_count": 7,
      "metadata": {
        "id": "aBKep09mnUml"
      },
      "outputs": [],
      "source": [
        "data['clean_description'] = data['description'].apply(text_preprocess)"
      ]
    },
    {
      "cell_type": "code",
      "execution_count": 8,
      "metadata": {
        "id": "d6xJmsclnUml"
      },
      "outputs": [],
      "source": [
        "data['text_len'] = [len(text.split()) for text in data['clean_description']]"
      ]
    },
    {
      "cell_type": "code",
      "execution_count": 9,
      "metadata": {
        "id": "2uXiiZKdnUml"
      },
      "outputs": [],
      "source": [
        "data = data[data['text_len'] < data['text_len'].quantile(0.95)]\n",
        "data = data[data['text_len'] > 0]\n",
        "data.dropna(inplace=True)\n",
        "data.drop_duplicates(inplace=True)\n",
        "data.reset_index(drop=True, inplace=True)\n",
        "MAX_LEN = np.max(data['text_len'])"
      ]
    },
    {
      "attachments": {},
      "cell_type": "markdown",
      "metadata": {},
      "source": [
        "## Создание словаря и токенизация данных\n",
        "Мы создадим словарь по корпусу наших текстов, добавив токены unk и pad.\n",
        "Дополнительно сделаем так, чтобы словарь мы могли пополнять в будущем.\n",
        "По словарю проведем токенизацию текстов."
      ]
    },
    {
      "cell_type": "code",
      "execution_count": 10,
      "metadata": {
        "id": "-orgE-OznUmm"
      },
      "outputs": [],
      "source": [
        "def build_vocab(documents, existing_vocab=None):\n",
        "    if existing_vocab is not None:\n",
        "        vocab_dict = dict(existing_vocab)\n",
        "    else:\n",
        "        vocab_dict = {'<unk>' : 1}\n",
        "    corpus = [word for text in documents for word in text.split()]\n",
        "    count_words = Counter(corpus)\n",
        "    for word, count in count_words.items():\n",
        "        vocab_dict[word] = vocab_dict.get(word, 1) + count\n",
        "    vocab = list(vocab_dict.items())\n",
        "    vocab.sort(key=lambda x: x[1], reverse=True)\n",
        "    vocab_to_int = {word:i+1 for i, (word,count) in enumerate(vocab)}\n",
        "    return vocab, vocab_to_int\n",
        "\n",
        "\n",
        "def huge_tokenize(documents, vocab_to_int):\n",
        "    text_int = []\n",
        "    for text in documents:\n",
        "        r = [vocab_to_int.get(word, 1) for word in text.split()]\n",
        "        r = torch.Tensor(r)\n",
        "        text_int.append(r)\n",
        "    text_int = pad_sequence(text_int, batch_first=True)\n",
        "    return text_int\n",
        "\n",
        "def small_tokenize(text, vocab_to_int, seq_len=MAX_LEN):\n",
        "    r = [vocab_to_int.get(word, 1) for word in text.split()]\n",
        "    if len(r) <= seq_len:\n",
        "        zeros = list(torch.zeros(seq_len - len(r)))\n",
        "        new = r + zeros\n",
        "    else:\n",
        "        new = r[: seq_len]\n",
        "    return torch.Tensor(new).to(int)"
      ]
    },
    {
      "cell_type": "code",
      "execution_count": 11,
      "metadata": {
        "id": "XMMIFwkgnUmn"
      },
      "outputs": [],
      "source": [
        "X = data['clean_description']\n",
        "y = data['category']\n",
        "data_size = len(data)\n",
        "indexs = [idx for idx in range(data_size)]\n",
        "train_indices, test_indices = [], []\n",
        "np.random.shuffle(indexs)\n",
        "train_size = int(data_size * 0.8)\n",
        "for i in range(data_size):\n",
        "    if i < train_size:\n",
        "        train_indices.append(indexs[i])\n",
        "    else:\n",
        "        test_indices.append(indexs[i])"
      ]
    },
    {
      "cell_type": "code",
      "execution_count": 12,
      "metadata": {
        "id": "xrSEo5jRnUmn"
      },
      "outputs": [],
      "source": [
        "vocabulary, vocabulary_to_int = build_vocab(X)\n",
        "X_tok = huge_tokenize(X, vocabulary_to_int).to(int)"
      ]
    },
    {
      "cell_type": "code",
      "execution_count": 13,
      "metadata": {
        "id": "4Er0_osUnUmn"
      },
      "outputs": [],
      "source": [
        "VOCAB_SIZE = len(vocabulary) + 1\n",
        "EMBEDDING_DIM = 200"
      ]
    },
    {
      "attachments": {},
      "cell_type": "markdown",
      "metadata": {},
      "source": [
        "Воспользуемся для получения эмбеддинг-матрицы предобученной моделью  Word2Vec."
      ]
    },
    {
      "cell_type": "code",
      "execution_count": 16,
      "metadata": {
        "id": "9OYfGb2xnUmo"
      },
      "outputs": [],
      "source": [
        "Word2vec_train_data = list(map(lambda x: x.split(), [X[idx] for idx in train_indices]))"
      ]
    },
    {
      "cell_type": "code",
      "execution_count": 17,
      "metadata": {
        "id": "KXhfTLr7nUmo"
      },
      "outputs": [],
      "source": [
        "model_obj = Word2Vec(Word2vec_train_data, vector_size=EMBEDDING_DIM)\n",
        "w2v = model_obj.wv"
      ]
    },
    {
      "cell_type": "code",
      "execution_count": 18,
      "metadata": {
        "id": "MoUCH6LlnUmo"
      },
      "outputs": [],
      "source": [
        "embedding_matrix = np.zeros((VOCAB_SIZE, EMBEDDING_DIM))\n",
        "for word, token in vocabulary:\n",
        "    if word in w2v.key_to_index:\n",
        "        embedding_vector = w2v[word]\n",
        "        embedding_matrix[token] = embedding_vector"
      ]
    },
    {
      "cell_type": "code",
      "execution_count": 26,
      "metadata": {
        "id": "d41lW0vSnUmo"
      },
      "outputs": [],
      "source": [
        "X_train = [X_tok[idx] for idx in train_indices]\n",
        "y_train = [y[idx] for idx in train_indices]\n",
        "X_test = [X_tok[idx] for idx in test_indices]\n",
        "y_test = [y[idx] for idx in test_indices]"
      ]
    },
    {
      "cell_type": "code",
      "execution_count": 27,
      "metadata": {
        "id": "DyQVdKE4nUmp"
      },
      "outputs": [],
      "source": [
        "class EcommerceDataset(Dataset):\n",
        "    def __init__(self, x_vectorized, y):\n",
        "        self.x_vectorized = x_vectorized\n",
        "        self.y = y\n",
        "\n",
        "    def __getitem__(self, index):\n",
        "        return self.x_vectorized[index], self.y[index]\n",
        "\n",
        "    def __len__(self):\n",
        "        return len(self.x_vectorized)"
      ]
    },
    {
      "cell_type": "code",
      "execution_count": 28,
      "metadata": {
        "id": "aPsAl_uCnUmp"
      },
      "outputs": [],
      "source": [
        "train_dataset = EcommerceDataset(X_train, y_train)\n",
        "test_dataset = EcommerceDataset(X_test, y_test)\n",
        "trainval_size = len(train_dataset)\n",
        "val_size = int(trainval_size * 0.15)\n",
        "train_size = trainval_size - val_size\n",
        "train_dataset, val_dataset = torch.utils.data.random_split(train_dataset, [train_size, val_size])"
      ]
    },
    {
      "cell_type": "code",
      "execution_count": 29,
      "metadata": {
        "id": "FAaQ5NmLnUmp"
      },
      "outputs": [],
      "source": [
        "train_loader = DataLoader(train_dataset, shuffle=True, batch_size=BATCH_SIZE, drop_last=True)\n",
        "valid_loader = DataLoader(val_dataset, shuffle=False, batch_size=BATCH_SIZE, drop_last=True)\n",
        "test_loader = DataLoader(test_dataset, shuffle=False, batch_size=BATCH_SIZE, drop_last=True)"
      ]
    },
    {
      "attachments": {},
      "cell_type": "markdown",
      "metadata": {},
      "source": [
        "## Модель\n",
        "Для классификации воспользуемся LSTM сетью, с механизмом внимания."
      ]
    },
    {
      "cell_type": "code",
      "execution_count": 14,
      "metadata": {
        "id": "hJgljYrenUmq"
      },
      "outputs": [],
      "source": [
        "NUM_CLASSES = 5\n",
        "HIDDEN_DIM = 100\n",
        "LSTM_LAYERS = 1\n",
        "\n",
        "IS_BIDIRECTIONAL = True\n",
        "LR = 1e-4\n",
        "DROPOUT = 0.2\n",
        "DEVICE = 'cuda' if torch.cuda.is_available() else 'mps' if torch.backends.mps.is_available()  else 'cpu'"
      ]
    },
    {
      "cell_type": "code",
      "execution_count": 16,
      "metadata": {
        "id": "OQ5LUTCRnUmq"
      },
      "outputs": [],
      "source": [
        "class Attention(nn.Module):\n",
        "    def __init__(self, hidden_dim, is_bidirectional):\n",
        "        super(Attention, self).__init__()\n",
        "        self.is_bidirectional = is_bidirectional\n",
        "        self.attn = nn.Linear(hidden_dim * (4 if is_bidirectional else 2), hidden_dim * (2 if is_bidirectional else 1))\n",
        "        self.v = nn.Linear(hidden_dim * (2 if is_bidirectional else 1), 1, bias=False)\n",
        "\n",
        "    def forward(self, hidden, encoder_outputs):\n",
        "        seq_len = encoder_outputs.size(1)\n",
        "        if self.is_bidirectional:\n",
        "            hidden = torch.cat((hidden[-2], hidden[-1]), dim=-1)\n",
        "        else:\n",
        "            hidden = hidden[-1]\n",
        "        hidden_repeated = hidden.unsqueeze(1).repeat(1, seq_len, 1)\n",
        "        attn_weights = torch.tanh(self.attn(torch.cat((hidden_repeated, encoder_outputs), dim=2)))\n",
        "        attn_weights = self.v(attn_weights).squeeze(2)\n",
        "        return nn.functional.softmax(attn_weights, dim=1)\n",
        "\n",
        "\n",
        "\n",
        "class LSTM_Classifier(nn.Module):\n",
        "    def __init__(self, vocab_size, embedding_dim, hidden_dim, num_classes, lstm_layers, dropout, is_bidirectional):\n",
        "        super(LSTM_Classifier, self).__init__()\n",
        "        self.hidden_dim = hidden_dim\n",
        "        self.num_layers = lstm_layers\n",
        "        self.is_bidirectional = is_bidirectional\n",
        "\n",
        "        self.embedding = nn.Embedding(vocab_size, embedding_dim, padding_idx=0)\n",
        "        self.lstm = nn.LSTM(embedding_dim, hidden_dim, lstm_layers, batch_first=True, bidirectional=is_bidirectional)\n",
        "        self.attention = Attention(hidden_dim, is_bidirectional)\n",
        "        self.fc = nn.Linear(hidden_dim * (2 if is_bidirectional else 1), num_classes)\n",
        "        self.softmax = nn.LogSoftmax(dim=1)\n",
        "        self.dropout = nn.Dropout(dropout)\n",
        "\n",
        "    def forward(self, x, hidden):\n",
        "\n",
        "        embedded = self.embedding(x)\n",
        "\n",
        "        out, hidden = self.lstm(embedded, hidden)\n",
        "        attn_weights = self.attention(hidden[0], out)\n",
        "\n",
        "        context = attn_weights.unsqueeze(1).bmm(out).squeeze(1)\n",
        "\n",
        "        out = self.softmax(self.fc(context))\n",
        "        return out, hidden\n",
        "\n",
        "    def init_hidden(self, batch_size):\n",
        "\n",
        "        factor = 2 if self.is_bidirectional else 1\n",
        "\n",
        "        h0 = torch.zeros(self.num_layers * factor, batch_size, self.hidden_dim).to(DEVICE)\n",
        "        c0 = torch.zeros(self.num_layers * factor, batch_size, self.hidden_dim).to(DEVICE)\n",
        "        return (h0, c0)\n",
        "\n"
      ]
    },
    {
      "cell_type": "code",
      "execution_count": 38,
      "metadata": {
        "id": "AUOot8AZnUmq"
      },
      "outputs": [],
      "source": [
        "model = LSTM_Classifier(VOCAB_SIZE, EMBEDDING_DIM, HIDDEN_DIM, NUM_CLASSES, LSTM_LAYERS, DROPOUT, IS_BIDIRECTIONAL)\n",
        "model = model.to(DEVICE)"
      ]
    },
    {
      "cell_type": "code",
      "execution_count": 39,
      "metadata": {
        "id": "tQk9Qxk7nUmr"
      },
      "outputs": [],
      "source": [
        "model.embedding.weight.data.copy_(torch.from_numpy(embedding_matrix))\n",
        "model.embedding.weight.requires_grad = True"
      ]
    },
    {
      "cell_type": "code",
      "execution_count": 25,
      "metadata": {
        "colab": {
          "base_uri": "https://localhost:8080/"
        },
        "id": "VNeatg8dnUmr",
        "outputId": "14dbf474-9e76-48d0-be29-7ec079c019c6"
      },
      "outputs": [],
      "source": [
        "criterion = nn.CrossEntropyLoss()\n",
        "optimizer = torch.optim.Adam(model.parameters(), lr=LR)"
      ]
    },
    {
      "attachments": {},
      "cell_type": "markdown",
      "metadata": {
        "id": "R-5WEAYUnUmr"
      },
      "source": [
        "### Обучение модели\n",
        "Напишем функцию тестирования и обучения модели:"
      ]
    },
    {
      "cell_type": "code",
      "execution_count": 23,
      "metadata": {
        "id": "9QgEOIXOnUmr"
      },
      "outputs": [],
      "source": [
        "def evaluate(model, device, dataloader, loss_fn):\n",
        "    losses  = []\n",
        "    correct = 0\n",
        "    total = 0\n",
        "    with torch.no_grad():\n",
        "        model.eval()\n",
        "        for x_batch, y_batch in dataloader:\n",
        "            x_batch = x_batch.to(device)\n",
        "            y_batch = y_batch.to(device)\n",
        "            h = model.init_hidden(y_batch.size(0))\n",
        "            output, h = model(x_batch, h)\n",
        "            \n",
        "            loss = loss_fn(output, y_batch)\n",
        "            losses.append(loss.item())\n",
        "\n",
        "            y_pred = torch.argmax(output, dim=1)\n",
        "\n",
        "            correct += torch.sum(y_pred==y_batch).item()\n",
        "            total += y_batch.size(0)\n",
        "\n",
        "    accuracy = round(100 * correct / total, 2)\n",
        "    return accuracy, np.mean(losses)"
      ]
    },
    {
      "cell_type": "code",
      "execution_count": 24,
      "metadata": {
        "id": "fW9wRe0rnUmr"
      },
      "outputs": [],
      "source": [
        "def train(model, train_loader, device, loss_fn, optimizer, n_epoch=6):\n",
        "    early_stopping_patience = 4\n",
        "    early_stopping_counter = 0\n",
        "\n",
        "    epoch_acc_max = 0\n",
        "    for epoch in range(1, n_epoch + 1):\n",
        "        model.train()\n",
        "        for x_batch, y_batch in train_loader:\n",
        "            x_batch = x_batch.to(device)\n",
        "            y_batch = y_batch.to(device)\n",
        "\n",
        "            h = model.init_hidden(y_batch.size(0))\n",
        "\n",
        "            output, h = model(x_batch, h)\n",
        "\n",
        "            optimizer.zero_grad()\n",
        "            loss = loss_fn(output, y_batch)\n",
        "\n",
        "            loss.backward()\n",
        "            optimizer.step()\n",
        "\n",
        "\n",
        "\n",
        "        epoch_accuracy, epoch_loss = evaluate(model, device, valid_loader, loss_fn)\n",
        "        print(f\"Epoch {epoch}/{n_epoch} finished: train_accuracy = {epoch_accuracy}%, train_loss = {epoch_loss}\")\n",
        "        if epoch_accuracy >= epoch_acc_max:\n",
        "            torch.save(model.state_dict(), './state_dict.pt')\n",
        "            print(f'Validation accuracy increased ({epoch_acc_max:.2f} --> {epoch_accuracy:.2f}).  Saving model ...')\n",
        "            epoch_acc_max = epoch_accuracy\n",
        "            early_stopping_counter = 0\n",
        "        else:\n",
        "            print(f'Validation accuracy did not increase')\n",
        "            early_stopping_counter += 1\n",
        "            \n",
        "        if early_stopping_counter > early_stopping_patience:\n",
        "            print('Early stopped at epoch :', epoch)\n",
        "            break\n",
        "    return model"
      ]
    },
    {
      "cell_type": "code",
      "execution_count": 41,
      "metadata": {
        "colab": {
          "base_uri": "https://localhost:8080/"
        },
        "id": "8GGaz1aCaqcd",
        "outputId": "55569fc8-96f2-4258-ae4d-e893288cbea6"
      },
      "outputs": [
        {
          "name": "stdout",
          "output_type": "stream",
          "text": [
            "Epoch 1/10 finished: train_accuracy = 69.28%, train_loss = 0.8503406608206594\n",
            "Validation accuracy increased (0.00 --> 69.28).  Saving model ...\n",
            "Epoch 2/10 finished: train_accuracy = 82.4%, train_loss = 0.5295515452694689\n",
            "Validation accuracy increased (69.28 --> 82.40).  Saving model ...\n",
            "Epoch 3/10 finished: train_accuracy = 85.34%, train_loss = 0.46072849211020345\n",
            "Validation accuracy increased (82.40 --> 85.34).  Saving model ...\n",
            "Epoch 4/10 finished: train_accuracy = 90.22%, train_loss = 0.340626102545832\n",
            "Validation accuracy increased (85.34 --> 90.22).  Saving model ...\n",
            "Epoch 5/10 finished: train_accuracy = 90.92%, train_loss = 0.3114978634776213\n",
            "Validation accuracy increased (90.22 --> 90.92).  Saving model ...\n",
            "Epoch 6/10 finished: train_accuracy = 92.12%, train_loss = 0.27231133315298295\n",
            "Validation accuracy increased (90.92 --> 92.12).  Saving model ...\n",
            "Epoch 7/10 finished: train_accuracy = 93.0%, train_loss = 0.24297870921655598\n",
            "Validation accuracy increased (92.12 --> 93.00).  Saving model ...\n",
            "Epoch 8/10 finished: train_accuracy = 93.27%, train_loss = 0.23393425827002168\n",
            "Validation accuracy increased (93.00 --> 93.27).  Saving model ...\n",
            "Epoch 9/10 finished: train_accuracy = 93.64%, train_loss = 0.22555659896033442\n",
            "Validation accuracy increased (93.27 --> 93.64).  Saving model ...\n",
            "Epoch 10/10 finished: train_accuracy = 93.88%, train_loss = 0.2355448867703796\n",
            "Validation accuracy increased (93.64 --> 93.88).  Saving model ...\n"
          ]
        }
      ],
      "source": [
        "model = train(model, train_loader, DEVICE, criterion, optimizer, 10)"
      ]
    },
    {
      "attachments": {},
      "cell_type": "markdown",
      "metadata": {},
      "source": [
        "### Тестирование\n"
      ]
    },
    {
      "attachments": {},
      "cell_type": "markdown",
      "metadata": {},
      "source": [
        "Напишем функцию с понятным пользователю интерфейсом, для классификации одного текста."
      ]
    },
    {
      "cell_type": "code",
      "execution_count": 17,
      "metadata": {},
      "outputs": [
        {
          "data": {
            "text/plain": [
              "LSTM_Classifier(\n",
              "  (embedding): Embedding(49672, 200, padding_idx=0)\n",
              "  (lstm): LSTM(200, 100, batch_first=True, bidirectional=True)\n",
              "  (attention): Attention(\n",
              "    (attn): Linear(in_features=400, out_features=200, bias=True)\n",
              "    (v): Linear(in_features=200, out_features=1, bias=False)\n",
              "  )\n",
              "  (fc): Linear(in_features=200, out_features=5, bias=True)\n",
              "  (softmax): LogSoftmax(dim=1)\n",
              "  (dropout): Dropout(p=0.2, inplace=False)\n",
              ")"
            ]
          },
          "execution_count": 17,
          "metadata": {},
          "output_type": "execute_result"
        }
      ],
      "source": [
        "model = LSTM_Classifier(VOCAB_SIZE, EMBEDDING_DIM, HIDDEN_DIM, NUM_CLASSES, LSTM_LAYERS, DROPOUT, IS_BIDIRECTIONAL)\n",
        "model.load_state_dict(torch.load('state_dict.pt'))\n",
        "model = model.to(DEVICE)\n",
        "model.eval()"
      ]
    },
    {
      "cell_type": "code",
      "execution_count": 25,
      "metadata": {
        "id": "PR7VCFO2nUms"
      },
      "outputs": [],
      "source": [
        "def predict_single(text, temp=5):\n",
        "    text = text_preprocess(text)\n",
        "    text_tok = small_tokenize(text, vocabulary_to_int)\n",
        "    inverse_category_list = ['Household', 'Books', 'Clothing & Accessories', 'Electronics', 'Other']\n",
        "    with torch.no_grad():\n",
        "        x = text_tok.reshape(1, len(text_tok)).to('mps')\n",
        "        h =  model.init_hidden(1)\n",
        "        emb = model.embedding(x)\n",
        "        out, h = model.lstm(emb, h)\n",
        "        attn_weights = model.attention(h[0], out)\n",
        "        context = attn_weights.unsqueeze(1).bmm(out).squeeze(1)\n",
        "        attn_weights = attn_weights.cpu()\n",
        "        _, important_tokens_base = torch.topk(attn_weights, temp, dim=1)\n",
        "        for important_tokens in important_tokens_base:\n",
        "            important_text = [text.split()[token.to(int)] for token in important_tokens if token.to(int) in range(0, len(text.split()))]\n",
        "            print(important_text)\n",
        "            out = model.softmax(model.fc(context))\n",
        "            prediction = torch.argmax(out, dim=1)\n",
        "            actual_length = len(text.split())\n",
        "            colors = sns.color_palette(\"viridis\", n_colors=actual_length)\n",
        "            plt.figure(figsize=(actual_length, actual_length/10))\n",
        "            bars = plt.bar(range(actual_length), attn_weights.squeeze(0)[:actual_length], color=colors)\n",
        "\n",
        "            for i, bar in enumerate(bars):\n",
        "                plt.text(bar.get_x() + bar.get_width() / 2, bar.get_height() + 0.001, text.split()[i],\n",
        "                        ha='center', va='bottom', rotation=25, fontsize=8, color='black')\n",
        "\n",
        "            plt.xlabel(\"Words\")\n",
        "            plt.ylabel(\"Attention\")\n",
        "            plt.show()\n",
        "        return inverse_category_list[prediction.to(int)]"
      ]
    },
    {
      "cell_type": "code",
      "execution_count": 26,
      "metadata": {
        "colab": {
          "base_uri": "https://localhost:8080/",
          "height": 120
        },
        "id": "DlhlsVLxnUms",
        "outputId": "a94f1261-17b3-43cb-8abf-abae0b1a134c"
      },
      "outputs": [
        {
          "name": "stdout",
          "output_type": "stream",
          "text": [
            "['knowledge', 'school', 'practice', 'business', 'people']\n"
          ]
        },
        {
          "data": {
            "image/png": "[encoded data removed]",
            "text/plain": [
              "<Figure size 4100x410 with 1 Axes>"
            ]
          },
          "metadata": {},
          "output_type": "display_data"
        },
        {
          "data": {
            "text/plain": [
              "'Books'"
            ]
          },
          "execution_count": 26,
          "metadata": {},
          "output_type": "execute_result"
        }
      ],
      "source": [
        "predict_single('The 10th anniversary edition of the bestselling foundational business training manual for ambitious readers, featuring new concepts and mental models: updated, expanded, and revised.Many people assume they need to attend business school to learn how to build a successful business or advance in their career. Thats not true. The vast majority of modern business practice requires little more than common sense, simple arithmetic, and knowledge of a few very important ideas and principles')"
      ]
    },
    {
      "cell_type": "code",
      "execution_count": 32,
      "metadata": {},
      "outputs": [
        {
          "name": "stdout",
          "output_type": "stream",
          "text": [
            "[]\n"
          ]
        },
        {
          "data": {
            "image/png": "[encoded data removed]",
            "text/plain": [
              "<Figure size 1100x110 with 1 Axes>"
            ]
          },
          "metadata": {},
          "output_type": "display_data"
        },
        {
          "data": {
            "text/plain": [
              "'Books'"
            ]
          },
          "execution_count": 32,
          "metadata": {},
          "output_type": "execute_result"
        }
      ],
      "source": [
        "predict_single('Receiving an unexpected award is always a delightful surprise. However, if you are notified of winning a contest it is spam')"
      ]
    },
    {
      "cell_type": "code",
      "execution_count": 20,
      "metadata": {},
      "outputs": [],
      "source": [
        "def softmax(x):\n",
        "    return torch.exp(x) / torch.sum(torch.exp(x), dim=1)\n",
        "\n",
        "def predict_for_other(text, t=0.6):\n",
        "    text = text_preprocess(text)\n",
        "    text_tok = small_tokenize(text, vocabulary_to_int)\n",
        "    inverse_category_list = ['Household', 'Books', 'Clothing & Accessories', 'Electronics', 'Other']\n",
        "    with torch.no_grad():\n",
        "        x = text_tok.reshape(1, len(text_tok)).to(DEVICE)\n",
        "        h =  model.init_hidden(1)\n",
        "        emb = model.embedding(x)\n",
        "        out, h = model.lstm(emb, h)\n",
        "        attn_weights = model.attention(h[0], out)\n",
        "        context = attn_weights.unsqueeze(1).bmm(out).squeeze(1)\n",
        "        out = softmax(model.fc(context))\n",
        "    confidence, indeces = torch.max(out, dim=1)\n",
        "    print(confidence, indeces)\n",
        "    if float(confidence) < t and int(indeces) != 4:\n",
        "        prediction = 4\n",
        "    else:\n",
        "        prediction = torch.argmax(out, dim=1).to(int)\n",
        "    return inverse_category_list[prediction]"
      ]
    },
    {
      "cell_type": "code",
      "execution_count": 21,
      "metadata": {},
      "outputs": [
        {
          "name": "stdout",
          "output_type": "stream",
          "text": [
            "tensor([0.5598], device='mps:0') tensor([1], device='mps:0')\n"
          ]
        },
        {
          "data": {
            "text/plain": [
              "'Other'"
            ]
          },
          "execution_count": 21,
          "metadata": {},
          "output_type": "execute_result"
        }
      ],
      "source": [
        "predict_for_other('Receiving an unexpected award is always a delightful surprise. However, if you are notified of winning a contest it is spam')"
      ]
    },
    {
      "cell_type": "code",
      "execution_count": 40,
      "metadata": {},
      "outputs": [
        {
          "name": "stdout",
          "output_type": "stream",
          "text": [
            "tensor([0.9991], device='mps:0') tensor([1], device='mps:0')\n"
          ]
        },
        {
          "data": {
            "text/plain": [
              "'Books'"
            ]
          },
          "execution_count": 40,
          "metadata": {},
          "output_type": "execute_result"
        }
      ],
      "source": [
        "predict_for_other('The 10th anniversary edition of the bestselling foundational business training manual for ambitious readers, featuring new concepts and mental models: updated, expanded, and revised.Many people assume they need to attend business school to learn how to build a successful business or advance in their career. Thats not true. The vast majority of modern business practice requires little more than common sense, simple arithmetic, and knowledge of a few very important ideas and principles')"
      ]
    },
    {
      "attachments": {},
      "cell_type": "markdown",
      "metadata": {},
      "source": [
        "Протестируем модель на тестовой выборке."
      ]
    },
    {
      "cell_type": "code",
      "execution_count": 30,
      "metadata": {
        "colab": {
          "base_uri": "https://localhost:8080/"
        },
        "id": "Qq8V306-nUms",
        "outputId": "fb02c688-9af1-4725-b82d-3e7adbb647b4"
      },
      "outputs": [
        {
          "name": "stdout",
          "output_type": "stream",
          "text": [
            "Testing finished: Accuracy =  97.1%, Loss = 0.11178233989096266\n"
          ]
        }
      ],
      "source": [
        "test_accuracy, test_loss = evaluate(model, DEVICE, test_loader, criterion)\n",
        "print(f'Testing finished: Accuracy =  {test_accuracy}%, Loss = {test_loss}')"
      ]
    },
    {
      "attachments": {},
      "cell_type": "markdown",
      "metadata": {
        "id": "9UVL9Jz-nUmt"
      },
      "source": [
        "## Заключение\n",
        "Мы получили оригинальную модель, которая работает хорошо, если к нам добавляют только продукты из описанных выше категорий :)"
      ]
    }
  ],
  "metadata": {
    "accelerator": "GPU",
    "colab": {
      "gpuType": "T4",
      "provenance": []
    },
    "kernelspec": {
      "display_name": "cuda-gpt",
      "language": "python",
      "name": "cuda"
    },
    "language_info": {
      "codemirror_mode": {
        "name": "ipython",
        "version": 3
      },
      "file_extension": ".py",
      "mimetype": "text/x-python",
      "name": "python",
      "nbconvert_exporter": "python",
      "pygments_lexer": "ipython3",
      "version": "3.10.10"
    },
    "orig_nbformat": 4
  },
  "nbformat": 4,
  "nbformat_minor": 0
}
